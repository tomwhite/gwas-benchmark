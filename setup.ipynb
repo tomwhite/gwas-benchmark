{
 "cells": [
  {
   "cell_type": "code",
   "execution_count": 4,
   "id": "alive-reduction",
   "metadata": {},
   "outputs": [],
   "source": [
    "from contextlib import nullcontext\n",
    "import os\n",
    "import numpy as np\n",
    "import xarray as xr\n",
    "import dask\n",
    "import dask.array as da\n",
    "from dask.array import stats\n",
    "from dask.diagnostics import ProgressBar\n",
    "from dask.distributed import Client, performance_report\n",
    "import fsspec"
   ]
  },
  {
   "cell_type": "code",
   "execution_count": 2,
   "id": "opened-adoption",
   "metadata": {},
   "outputs": [
    {
     "data": {
      "text/plain": [
       "'rs-gwas-benchmark'"
      ]
     },
     "execution_count": 2,
     "metadata": {},
     "output_type": "execute_result"
    }
   ],
   "source": [
    "if \"GCS_BUCKET\" not in os.environ:\n",
    "    raise ValueError(\"GCS_BUCKET not found in environment variables. Please define and source a .env file.\")\n",
    "gcs_bucket = os.environ[\"GCS_BUCKET\"]\n",
    "gcs_bucket"
   ]
  },
  {
   "cell_type": "code",
   "execution_count": null,
   "id": "printable-cemetery",
   "metadata": {},
   "outputs": [],
   "source": [
    "def get_dask_cluster(cluster_type, n_workers=1, threads_per_worker=None):\n",
    "    if cluster_type in (\"threads\", \"processes\"):\n",
    "        return None\n",
    "    if cluster_type == \"dist\":\n",
    "        address = os.environ[\"DASK_SCHEDULER_ADDRESS\"]\n",
    "        return Client(address)\n",
    "\n",
    "    # Local cluster\n",
    "    \n",
    "#     dk.config.set({\"distributed.worker.memory.terminate\": False})\n",
    "#     workers_kwargs = {\"memory_target_fraction\": False,\n",
    "#                       \"memory_spill_fraction\": False,\n",
    "#                       \"memory_pause_fraction\": .9}\n",
    "    workers_kwargs = {}\n",
    "    return Client(n_workers=n_workers,\n",
    "                  threads_per_worker=threads_per_worker,\n",
    "                  **workers_kwargs)"
   ]
  },
  {
   "cell_type": "code",
   "execution_count": null,
   "id": "wound-miller",
   "metadata": {},
   "outputs": [],
   "source": [
    "os.makedirs(\"reports\", exist_ok=True)"
   ]
  }
 ],
 "metadata": {
  "kernelspec": {
   "display_name": "Python 3",
   "language": "python",
   "name": "python3"
  },
  "language_info": {
   "codemirror_mode": {
    "name": "ipython",
    "version": 3
   },
   "file_extension": ".py",
   "mimetype": "text/x-python",
   "name": "python",
   "nbconvert_exporter": "python",
   "pygments_lexer": "ipython3",
   "version": "3.8.0"
  }
 },
 "nbformat": 4,
 "nbformat_minor": 5
}
